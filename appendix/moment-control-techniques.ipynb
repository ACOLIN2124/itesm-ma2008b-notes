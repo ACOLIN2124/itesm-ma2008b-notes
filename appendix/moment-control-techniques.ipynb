{
 "cells": [
  {
   "cell_type": "markdown",
   "id": "a8cfe37b",
   "metadata": {},
   "source": [
    "# **Lecture Notes: Moment Control Techniques - Matching Statistical Moments**\n",
    "\n",
    "## **1. Introduction**\n",
    "\n",
    "In numerical optimization, simulation, and control systems, it is essential that generated data match the statistical characteristics of real-world distributions. **Moment control techniques** ensure that generated or approximated data have specific statistical properties, known as moments.\n",
    "\n",
    "---\n",
    "\n",
    "## **2. Statistical Moments**\n",
    "\n",
    "1. **Mean (First Moment)**: Central tendency of the data.\n",
    "   - Formula: $\\mu = E[X]$\n",
    "\n",
    "2. **Variance (Second Moment)**: Spread or dispersion around the mean.\n",
    "   - Formula: $\\sigma^2 = E[(X - \\mu)^2]$\n",
    "\n",
    "3. **Skewness (Third Moment)**: Asymmetry of the distribution.\n",
    "   - Formula: $\\gamma_1 = E\\left[\\left(\\frac{X - \\mu}{\\sigma}\\right)^3\\right]$\n",
    "\n",
    "4. **Kurtosis (Fourth Moment)**: Tailedness of the distribution.\n",
    "   - Formula: $\\gamma_2 = E\\left[\\left(\\frac{X - \\mu}{\\sigma}\\right)^4\\right] - 3$\n",
    "\n",
    "---\n",
    "\n",
    "## **3. Moment Matching Techniques**\n",
    "\n",
    "### **3.1 Moment Matching for Normal Distribution**\n",
    "\n",
    "**Goal:** Generate samples that match specified mean and variance.\n",
    "\n",
    "**Python Example:**"
   ]
  },
  {
   "cell_type": "code",
   "execution_count": 1,
   "id": "b492afda",
   "metadata": {},
   "outputs": [
    {
     "name": "stdout",
     "output_type": "stream",
     "text": [
      "Mean: 5.0000, Variance: 4.0000\n"
     ]
    }
   ],
   "source": [
    "import numpy as np\n",
    "\n",
    "\n",
    "def generate_normal_samples(target_mean, target_std, size=1000):\n",
    "    samples = np.random.normal(0, 1, size)\n",
    "    adjusted_samples = target_mean + target_std * (samples - np.mean(samples)) / np.std(\n",
    "        samples\n",
    "    )\n",
    "    return adjusted_samples\n",
    "\n",
    "\n",
    "# Target moments\n",
    "target_mean = 5\n",
    "target_std = 2\n",
    "samples = generate_normal_samples(target_mean, target_std)\n",
    "\n",
    "print(f\"Mean: {np.mean(samples):.4f}, Variance: {np.var(samples):.4f}\")"
   ]
  },
  {
   "cell_type": "markdown",
   "id": "2ac8f373",
   "metadata": {},
   "source": [
    "---\n",
    "\n",
    "### **3.2 Matching Higher-Order Moments (Skewness and Kurtosis)**"
   ]
  },
  {
   "cell_type": "code",
   "execution_count": 2,
   "id": "780c1de9",
   "metadata": {},
   "outputs": [
    {
     "name": "stdout",
     "output_type": "stream",
     "text": [
      "Skewness: 0.1589, Kurtosis: -0.0400\n"
     ]
    }
   ],
   "source": [
    "from scipy.stats import skew, kurtosis\n",
    "\n",
    "\n",
    "def adjust_higher_moments(samples, target_skewness, target_kurtosis):\n",
    "    current_skew = skew(samples)\n",
    "    current_kurtosis = kurtosis(samples)\n",
    "\n",
    "    adjusted_samples = samples * (target_skewness / current_skew)\n",
    "    adjusted_samples += target_kurtosis - current_kurtosis\n",
    "\n",
    "    return adjusted_samples\n",
    "\n",
    "\n",
    "# Example\n",
    "samples = generate_normal_samples(0, 1)\n",
    "samples = adjust_higher_moments(samples, target_skewness=0.5, target_kurtosis=3)\n",
    "\n",
    "print(f\"Skewness: {skew(samples):.4f}, Kurtosis: {kurtosis(samples):.4f}\")"
   ]
  },
  {
   "cell_type": "markdown",
   "id": "7e7da45f",
   "metadata": {},
   "source": [
    "---\n",
    "\n",
    "## **4. Applications of Moment Matching**\n",
    "\n",
    "### **4.1 Monte Carlo Simulations**\n",
    "\n",
    "Ensure that the generated random variables align with expected statistical properties:"
   ]
  },
  {
   "cell_type": "code",
   "execution_count": 3,
   "id": "f5aa873a",
   "metadata": {},
   "outputs": [
    {
     "name": "stdout",
     "output_type": "stream",
     "text": [
      "Simulation Mean: 10.0000\n"
     ]
    }
   ],
   "source": [
    "def monte_carlo_simulation(num_simulations=10000):\n",
    "    results = []\n",
    "    for _ in range(num_simulations):\n",
    "        sample = generate_normal_samples(10, 5)\n",
    "        results.append(np.mean(sample))\n",
    "    return np.array(results)\n",
    "\n",
    "\n",
    "simulation_results = monte_carlo_simulation()\n",
    "\n",
    "print(f\"Simulation Mean: {np.mean(simulation_results):.4f}\")"
   ]
  },
  {
   "cell_type": "markdown",
   "id": "9ea6952b",
   "metadata": {},
   "source": [
    "---\n",
    "\n",
    "### **4.2 Financial Modeling**\n",
    "\n",
    "Simulate stock returns that match historical mean and volatility:"
   ]
  },
  {
   "cell_type": "code",
   "execution_count": 4,
   "id": "8c357eff",
   "metadata": {},
   "outputs": [
    {
     "name": "stdout",
     "output_type": "stream",
     "text": [
      "Simulated Mean Return: 0.0005\n"
     ]
    }
   ],
   "source": [
    "def simulate_stock_returns(historical_mean, historical_std, days=252):\n",
    "    returns = generate_normal_samples(historical_mean, historical_std, days)\n",
    "    return returns\n",
    "\n",
    "\n",
    "# Historical data\n",
    "historical_mean = 0.0005  # daily mean return\n",
    "historical_std = 0.02  # daily volatility\n",
    "\n",
    "simulated_returns = simulate_stock_returns(historical_mean, historical_std)\n",
    "print(f\"Simulated Mean Return: {np.mean(simulated_returns):.4f}\")"
   ]
  },
  {
   "cell_type": "markdown",
   "id": "8434ee5a",
   "metadata": {},
   "source": [
    "---\n",
    "\n",
    "## **5. Antithetic Variables in Variance Reduction**\n",
    "\n",
    "Using antithetic variables can reduce variance while preserving moments:"
   ]
  },
  {
   "cell_type": "code",
   "execution_count": 5,
   "id": "ebe5ec1f",
   "metadata": {},
   "outputs": [
    {
     "name": "stdout",
     "output_type": "stream",
     "text": [
      "Mean: 0.0000, Variance: 1.0055\n"
     ]
    }
   ],
   "source": [
    "def antithetic_variates(size=1000):\n",
    "    normal_sample = np.random.normal(0, 1, size)\n",
    "    antithetic_sample = -normal_sample  # Antithetic pair\n",
    "    combined_samples = np.concatenate([normal_sample, antithetic_sample])\n",
    "    return combined_samples\n",
    "\n",
    "\n",
    "samples = antithetic_variates()\n",
    "print(f\"Mean: {np.mean(samples):.4f}, Variance: {np.var(samples):.4f}\")"
   ]
  },
  {
   "cell_type": "markdown",
   "id": "22c909fa",
   "metadata": {},
   "source": [
    "---\n",
    "\n",
    "## **6. Benefits of Moment Control Techniques**\n",
    "\n",
    "- **Accuracy:** Increases the fidelity of simulations to real-world data.\n",
    "- **Efficiency:** Reduces computational effort in achieving desired statistical properties.\n",
    "- **Robustness:** Ensures consistency across stochastic models.\n",
    "\n",
    "---\n",
    "\n",
    "## **7. Summary**\n",
    "\n",
    "Moment control techniques, especially **matching statistical moments**, play a crucial role in ensuring that simulations and optimizations yield reliable, realistic results. By matching key statistical properties, models become more representative and robust, leading to better insights and decisions in areas such as control systems, financial modeling, and machine learning.\n",
    "\n",
    "---\n",
    "\n",
    "## **8. Further Reading**\n",
    "\n",
    "- Monte Carlo Methods in Financial Engineering by Paul Glasserman\n",
    "- Numerical Optimization by Jorge Nocedal and Stephen Wright\n",
    "- Probability and Statistics for Engineers and Scientists by Ronald E. Walpole\n"
   ]
  }
 ],
 "metadata": {
  "jupytext": {
   "cell_metadata_filter": "-all",
   "main_language": "python",
   "notebook_metadata_filter": "-all"
  },
  "kernelspec": {
   "display_name": ".venv",
   "language": "python",
   "name": "python3"
  },
  "language_info": {
   "codemirror_mode": {
    "name": "ipython",
    "version": 3
   },
   "file_extension": ".py",
   "mimetype": "text/x-python",
   "name": "python",
   "nbconvert_exporter": "python",
   "pygments_lexer": "ipython3",
   "version": "3.10.12"
  }
 },
 "nbformat": 4,
 "nbformat_minor": 5
}
