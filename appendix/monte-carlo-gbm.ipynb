{
 "cells": [
  {
   "cell_type": "markdown",
   "id": "0ce02427",
   "metadata": {},
   "source": [
    "# **Simulation of Geometric Brownian Motion (GBM)**\n",
    "\n",
    "## **1. Introduction**\n",
    "This lecture presents a **numerical simulation** of **Geometric Brownian Motion (GBM)**, which is a fundamental model in financial mathematics. GBM is widely used for **modeling stock prices, asset returns, and option pricing**.\n",
    "\n",
    "The function `simulate_gbm` simulates a stock price path under the **GBM model** using a discrete-time approximation.\n",
    "\n",
    "---\n",
    "\n",
    "## **2. Geometric Brownian Motion Model**\n",
    "The **stochastic differential equation (SDE)** for a stock price \\( S_t \\) following a GBM process is:\n",
    "\n",
    "\\[\n",
    "dS_t = \\mu S_t dt + \\sigma S_t dW_t\n",
    "\\]\n",
    "\n",
    "where:\n",
    "- \\( S_t \\) is the stock price at time \\( t \\),\n",
    "- \\( \\mu \\) is the **drift** (expected return),\n",
    "- \\( \\sigma \\) is the **volatility** (standard deviation of returns),\n",
    "- \\( W_t \\) is a **Wiener process** (standard Brownian motion).\n",
    "\n",
    "### **Closed-Form Solution**\n",
    "Applying **Itô's Lemma**, the solution to this SDE is:\n",
    "\n",
    "\\[\n",
    "S_t = S_0 e^{(\\mu - \\frac{1}{2} \\sigma^2)t + \\sigma W_t}\n",
    "\\]\n",
    "\n",
    "where:\n",
    "- \\( S_0 \\) is the initial stock price,\n",
    "- \\( W_t \\) is a **Wiener process** with \\( W_0 = 0 \\) and increments \\( dW_t \\sim \\mathcal{N}(0, dt) \\).\n",
    "\n",
    "---\n",
    "\n",
    "## **3. Monte Carlo Discretization**\n",
    "In numerical simulations, we approximate the **continuous process** with discrete time steps. The discretized **Euler-Maruyama scheme** for GBM is:\n",
    "\n",
    "\\[\n",
    "S_{t+dt} = S_t e^{(\\mu - \\frac{1}{2} \\sigma^2) dt + \\sigma \\sqrt{dt} \\cdot Z}\n",
    "\\]\n",
    "\n",
    "where \\( Z \\sim \\mathcal{N}(0,1) \\) is a standard normal random variable.\n",
    "\n",
    "---\n",
    "\n",
    "## **4. Python Implementation**\n",
    "The function `simulate_gbm` generates a **single price path** using the GBM model."
   ]
  },
  {
   "cell_type": "code",
   "execution_count": null,
   "id": "4c653df9",
   "metadata": {},
   "outputs": [],
   "source": [
    "import numpy as np\n",
    "import matplotlib.pyplot as plt\n",
    "\n",
    "def simulate_gbm(S0, mu, sigma, T, N):\n",
    "    dt = T / N  # Time step size\n",
    "    t = np.linspace(0, T, N)  # Time grid\n",
    "    \n",
    "    # Simulate Wiener process (Brownian motion)\n",
    "    W = np.cumsum(np.random.randn(N) * np.sqrt(dt))  \n",
    "    \n",
    "    # Simulate stock price using GBM formula\n",
    "    S = S0 * np.exp((mu - 0.5 * sigma**2) * t + sigma * W)\n",
    "    \n",
    "    return t, S\n",
    "\n",
    "# Parameters\n",
    "S0 = 100     # Initial stock price\n",
    "mu = 0.05    # Expected return (5% per year)\n",
    "sigma = 0.2  # Volatility (20% per year)\n",
    "T = 1        # Time horizon (1 year)\n",
    "N = 252      # Number of time steps (daily resolution)\n",
    "\n",
    "# Generate a GBM path\n",
    "t, S = simulate_gbm(S0, mu, sigma, T, N)\n",
    "\n",
    "# Plot the stock price path\n",
    "plt.plot(t, S, label=\"GBM Path\")\n",
    "plt.xlabel(\"Time\")\n",
    "plt.ylabel(\"Stock Price\")\n",
    "plt.title(\"Simulated Geometric Brownian Motion\")\n",
    "plt.legend()\n",
    "plt.show()"
   ]
  },
  {
   "cell_type": "markdown",
   "id": "faaa4a19",
   "metadata": {
    "lines_to_next_cell": 0
   },
   "source": [
    "---\n",
    "\n",
    "## **5. Step-by-Step Breakdown**\n",
    "### **5.1. Time Discretization**"
   ]
  },
  {
   "cell_type": "code",
   "execution_count": null,
   "id": "1b026a07",
   "metadata": {
    "lines_to_next_cell": 0
   },
   "outputs": [],
   "source": [
    "dt = T / N  # Time step size\n",
    "t = np.linspace(0, T, N)  # Time grid"
   ]
  },
  {
   "cell_type": "markdown",
   "id": "8e0faf8a",
   "metadata": {
    "lines_to_next_cell": 0
   },
   "source": [
    "- The time horizon \\( T \\) is divided into \\( N \\) discrete steps.\n",
    "- The array `t` stores evenly spaced time points from \\( 0 \\) to \\( T \\).\n",
    "\n",
    "### **5.2. Simulating Brownian Motion**"
   ]
  },
  {
   "cell_type": "code",
   "execution_count": null,
   "id": "7d341655",
   "metadata": {
    "lines_to_next_cell": 0
   },
   "outputs": [],
   "source": [
    "W = np.cumsum(np.random.randn(N) * np.sqrt(dt))"
   ]
  },
  {
   "cell_type": "markdown",
   "id": "d40238ea",
   "metadata": {
    "lines_to_next_cell": 0
   },
   "source": [
    "- A **Wiener process** \\( W_t \\) is approximated as a cumulative sum of normal increments:\n",
    "  \\[\n",
    "  dW_t \\sim \\mathcal{N}(0, dt)\n",
    "  \\]\n",
    "- This ensures that \\( W_t \\) has variance **proportional to time**.\n",
    "\n",
    "### **5.3. Simulating the Stock Price**"
   ]
  },
  {
   "cell_type": "code",
   "execution_count": null,
   "id": "c311225c",
   "metadata": {
    "lines_to_next_cell": 0
   },
   "outputs": [],
   "source": [
    "S = S0 * np.exp((mu - 0.5 * sigma**2) * t + sigma * W)"
   ]
  },
  {
   "cell_type": "markdown",
   "id": "c78f33af",
   "metadata": {
    "lines_to_next_cell": 0
   },
   "source": [
    "- This follows the exact GBM solution:\n",
    "  \\[\n",
    "  S_t = S_0 e^{(\\mu - \\frac{1}{2} \\sigma^2)t + \\sigma W_t}\n",
    "  \\]\n",
    "- The correction term \\( -\\frac{1}{2} \\sigma^2 t \\) ensures the expected price follows the deterministic drift.\n",
    "\n",
    "### **5.4. Visualization**"
   ]
  },
  {
   "cell_type": "code",
   "execution_count": null,
   "id": "ddf55944",
   "metadata": {
    "lines_to_next_cell": 0
   },
   "outputs": [],
   "source": [
    "plt.plot(t, S, label=\"GBM Path\")\n",
    "plt.xlabel(\"Time\")\n",
    "plt.ylabel(\"Stock Price\")\n",
    "plt.title(\"Simulated Geometric Brownian Motion\")\n",
    "plt.legend()\n",
    "plt.show()"
   ]
  },
  {
   "cell_type": "markdown",
   "id": "531c1f28",
   "metadata": {},
   "source": [
    "- A **single stock price path** is plotted over time.\n",
    "- This **illustrates price fluctuations** due to market randomness.\n",
    "\n",
    "---\n",
    "\n",
    "## **6. Interpretation of Results**\n",
    "- The simulated **stock price path** follows **random fluctuations** but shows an **upward trend** due to positive drift \\( \\mu \\).\n",
    "- Higher volatility \\( \\sigma \\) results in **wider fluctuations**.\n",
    "- The final stock price \\( S_T \\) is **random**, varying in each simulation.\n",
    "\n",
    "---\n",
    "\n",
    "## **7. Advantages and Limitations**\n",
    "### **Advantages**\n",
    "✅ **Captures Market Uncertainty**: Incorporates both **expected growth** and **random shocks**.  \n",
    "✅ **Realistic for Financial Modeling**: Used in **option pricing** and **risk management**.  \n",
    "✅ **Simple and Efficient**: Uses **Euler discretization** with minimal computation.\n",
    "\n",
    "### **Limitations**\n",
    "❌ **Assumes Log-Normal Prices**: Real markets may exhibit **fat tails** or **jumps**.  \n",
    "❌ **Constant Volatility**: Market volatility is often **time-dependent** (e.g., GARCH models).  \n",
    "❌ **Ignores Market Microstructure**: Assumes **continuous trading** and **no liquidity constraints**.\n",
    "\n",
    "---\n",
    "\n",
    "## **8. Extensions and Applications**\n",
    "### **8.1. Multi-Path Monte Carlo Simulations**\n",
    "- Generate **multiple GBM paths** and analyze the distribution of final prices.\n",
    "\n",
    "### **8.2. Option Pricing via Monte Carlo**\n",
    "- Compute **European call option prices** using:\n",
    "  \\[\n",
    "  C = e^{-rT} \\mathbb{E}[\\max(S_T - K, 0)]\n",
    "  \\]\n",
    "\n",
    "### **8.3. Stochastic Volatility Models**\n",
    "- Extend GBM to **Heston's model**, where volatility follows another SDE.\n",
    "\n",
    "---\n",
    "\n",
    "## **9. Conclusion**\n",
    "- **GBM is a fundamental model** in financial mathematics.\n",
    "- It provides a **stochastic framework** for stock price evolution.\n",
    "- **Monte Carlo simulations** enable numerical experiments for risk analysis.\n",
    "\n",
    "Would you like an **extension with multiple GBM paths** or **option pricing simulations**? 🚀"
   ]
  }
 ],
 "metadata": {
  "jupytext": {
   "cell_metadata_filter": "-all",
   "main_language": "python",
   "notebook_metadata_filter": "-all"
  }
 },
 "nbformat": 4,
 "nbformat_minor": 5
}
