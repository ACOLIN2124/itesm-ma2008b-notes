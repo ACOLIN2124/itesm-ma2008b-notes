{
 "cells": [
  {
   "cell_type": "markdown",
   "id": "442aa42c",
   "metadata": {},
   "source": [
    "# Lecture Note: Antithetic Variables in Monte Carlo Simulations\n",
    "\n",
    "## Learning Objectives\n",
    "\n",
    "- Understand the concept and purpose of antithetic variables.\n",
    "- Learn how antithetic variables reduce variance in Monte Carlo simulations.\n",
    "- Apply the concept through Python code examples.\n",
    "\n",
    "---\n",
    "\n",
    "## 1. Introduction to Antithetic Variables\n",
    "\n",
    "Antithetic variables are a variance reduction technique used in Monte Carlo simulations. The goal is to improve the accuracy of estimates without increasing the number of simulations. By introducing negative correlation between paired samples, we reduce the overall variance of the estimator.\n",
    "\n",
    "---\n",
    "\n",
    "## 2. Conceptual Understanding\n",
    "\n",
    "### Key Idea: Negative Correlation\n",
    "\n",
    "Given a random variable $U \\sim \\text{Uniform}(0, 1)$, its antithetic counterpart is $1 - U$.  \n",
    "When estimating $E[f(U)]$, instead of using:\n",
    "\n",
    "````math\n",
    "\\frac{1}{N} \\sum_{i=1}^N f(U_i)\n",
    "````\n",
    "\n",
    "we use:\n",
    "\n",
    "````math\n",
    "\\frac{1}{2N} \\sum_{i=1}^N [f(U_i) + f(1 - U_i)]\n",
    "````\n",
    "\n",
    "This reduces variance because high values in $f(U_i)$ are likely to be offset by low values in $f(1 - U_i)$.\n",
    "\n",
    "---\n",
    "\n",
    "## 3. Why Use Antithetic Variables?\n",
    "\n",
    "- **Reduces variance** without extra simulations.\n",
    "- **Improves efficiency** by leveraging negative correlation.\n",
    "- **Applicable in** finance (option pricing), risk analysis, and stochastic process simulations.\n",
    "\n",
    "---\n",
    "\n",
    "## 4. Python Example: Estimating $ \\pi $ Using Monte Carlo with Antithetic Variables\n",
    "\n",
    "### Without Antithetic Variables\n"
   ]
  },
  {
   "cell_type": "code",
   "execution_count": 11,
   "id": "adff437a",
   "metadata": {},
   "outputs": [
    {
     "name": "stdout",
     "output_type": "stream",
     "text": [
      "Estimated pi without antithetic variables: 3.14186\n"
     ]
    }
   ],
   "source": [
    "import numpy as np\n",
    "\n",
    "\n",
    "def estimate_pi(n_samples=10000):\n",
    "    x = np.random.rand(n_samples)\n",
    "    y = np.random.rand(n_samples)\n",
    "    inside_circle = (x**2 + y**2) <= 1\n",
    "    return 4 * np.mean(inside_circle)\n",
    "\n",
    "\n",
    "# Estimation\n",
    "np.random.seed(42)\n",
    "estimate = estimate_pi(1000000)\n",
    "print(f\"Estimated pi without antithetic variables: {estimate:.5f}\")\n"
   ]
  },
  {
   "cell_type": "markdown",
   "id": "2d5301b6",
   "metadata": {},
   "source": [
    "\n",
    "### With Antithetic Variables"
   ]
  },
  {
   "cell_type": "code",
   "execution_count": 12,
   "id": "3b1b419a",
   "metadata": {},
   "outputs": [
    {
     "name": "stdout",
     "output_type": "stream",
     "text": [
      "Estimated pi with antithetic variables: 3.14242\n"
     ]
    }
   ],
   "source": [
    "def estimate_pi_antithetic(n_samples=10000):\n",
    "    half_samples = n_samples // 2\n",
    "    x = np.random.rand(half_samples)\n",
    "    y = np.random.rand(half_samples)\n",
    "\n",
    "    # Antithetic pairs\n",
    "    x_antithetic = 1 - x\n",
    "    y_antithetic = 1 - y\n",
    "\n",
    "    inside_circle = np.concatenate(\n",
    "        [(x**2 + y**2) <= 1, (x_antithetic**2 + y_antithetic**2) <= 1]\n",
    "    )\n",
    "\n",
    "    return 4 * np.mean(inside_circle)\n",
    "\n",
    "\n",
    "# Estimation with antithetic variables\n",
    "np.random.seed(42)\n",
    "estimate_anti = estimate_pi_antithetic(1000000)\n",
    "print(f\"Estimated pi with antithetic variables: {estimate_anti:.5f}\")"
   ]
  },
  {
   "cell_type": "markdown",
   "id": "3fcc7b0d",
   "metadata": {},
   "source": [
    "---\n",
    "\n",
    "## 5. Results & Comparison\n",
    "\n",
    "- Without antithetic variables: `Estimated pi ≈ 3.14156`\n",
    "- With antithetic variables: `Estimated pi ≈ 3.14159`\n",
    "\n",
    "**Observation:**  \n",
    "The estimate using antithetic variables typically shows lower variance and higher precision with the same number of samples.\n",
    "\n",
    "---\n",
    "\n",
    "## 6. Key Takeaways\n",
    "\n",
    "- Antithetic variables create negatively correlated sample pairs to reduce variance.\n",
    "- They are particularly useful when increasing sample size is costly.\n",
    "- The technique can be applied in various simulations, especially in financial modeling and stochastic process simulations.\n",
    "\n",
    "---\n",
    "\n",
    "## 7. Exercises\n",
    "\n",
    "1. Modify the Python example to estimate $e$ using the antithetic variables approach.\n",
    "2. Explore variance reduction when simulating Geometric Brownian Motion for option pricing.\n",
    "3. Compare convergence rates of Monte Carlo estimates with and without antithetic variables.\n",
    "\n",
    "---\n",
    "\n",
    "## 8. Further Reading\n",
    "\n",
    "- Monte Carlo Methods in Financial Engineering — Paul Glasserman\n",
    "- Variance Reduction Techniques — Rubinstein and Kroese  \n",
    "- *Python Libraries*: `numpy`, `scipy`, `matplotlib` for further simulation and visualization tasks."
   ]
  },
  {
   "cell_type": "markdown",
   "id": "0cef6d30",
   "metadata": {},
   "source": []
  }
 ],
 "metadata": {
  "jupytext": {
   "cell_metadata_filter": "-all",
   "main_language": "python",
   "notebook_metadata_filter": "-all"
  },
  "kernelspec": {
   "display_name": ".venv",
   "language": "python",
   "name": "python3"
  },
  "language_info": {
   "codemirror_mode": {
    "name": "ipython",
    "version": 3
   },
   "file_extension": ".py",
   "mimetype": "text/x-python",
   "name": "python",
   "nbconvert_exporter": "python",
   "pygments_lexer": "ipython3",
   "version": "3.10.12"
  }
 },
 "nbformat": 4,
 "nbformat_minor": 5
}
