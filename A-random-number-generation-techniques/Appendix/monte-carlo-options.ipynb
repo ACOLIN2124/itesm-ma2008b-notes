{
 "cells": [
  {
   "cell_type": "code",
   "execution_count": 1,
   "metadata": {},
   "outputs": [],
   "source": [
    "import numpy as np\n",
    "\n",
    "def monte_carlo_european_call(S0, K, T, r, sigma, num_simulations):\n",
    "    dt = T  # Single-step simulation\n",
    "    \n",
    "    # Generate standard normal samples and their antithetic counterparts\n",
    "    U = np.random.normal(0, 1, num_simulations // 2)\n",
    "    V = -U\n",
    "    Z = np.concatenate((U, V))  # Combine for variance reduction\n",
    "    \n",
    "    # Simulate stock prices at maturity\n",
    "    ST = S0 * np.exp((r - 0.5 * sigma ** 2) * dt + sigma * np.sqrt(dt) * Z)\n",
    "    \n",
    "    # Compute call option payoff\n",
    "    payoff = np.maximum(ST - K, 0)\n",
    "    \n",
    "    # Discounted expected payoff\n",
    "    discounted_payoff = np.exp(-r * T) * payoff\n",
    "    \n",
    "    # Estimate option price and standard error\n",
    "    return np.mean(discounted_payoff), np.std(discounted_payoff) / np.sqrt(num_simulations)\n"
   ]
  },
  {
   "cell_type": "code",
   "execution_count": 2,
   "metadata": {},
   "outputs": [
    {
     "name": "stdout",
     "output_type": "stream",
     "text": [
      "European Call Option Price: 10.4202 ± 0.0464\n"
     ]
    }
   ],
   "source": [
    "\n",
    "# Parameters\n",
    "S0, K, T, r, sigma, num_simulations = 100, 100, 1, 0.05, 0.2, 100000\n",
    "\n",
    "call_price, error = monte_carlo_european_call(S0, K, T, r, sigma, num_simulations)\n",
    "\n",
    "print(f\"European Call Option Price: {call_price:.4f} ± {error:.4f}\")"
   ]
  }
 ],
 "metadata": {
  "kernelspec": {
   "display_name": ".venv",
   "language": "python",
   "name": "python3"
  },
  "language_info": {
   "codemirror_mode": {
    "name": "ipython",
    "version": 3
   },
   "file_extension": ".py",
   "mimetype": "text/x-python",
   "name": "python",
   "nbconvert_exporter": "python",
   "pygments_lexer": "ipython3",
   "version": "3.10.12"
  }
 },
 "nbformat": 4,
 "nbformat_minor": 2
}
