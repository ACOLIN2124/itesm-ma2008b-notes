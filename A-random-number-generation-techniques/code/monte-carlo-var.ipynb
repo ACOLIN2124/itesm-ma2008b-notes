{
 "cells": [
  {
   "cell_type": "code",
   "execution_count": 5,
   "metadata": {},
   "outputs": [
    {
     "name": "stdout",
     "output_type": "stream",
     "text": [
      "Estimated 95% Value at Risk (VaR): $243,559.38\n"
     ]
    }
   ],
   "source": [
    "import numpy as np\n",
    "import scipy.stats as stats\n",
    "\n",
    "def monte_carlo_var(initial_value, mu, sigma, T, alpha, num_simulations):\n",
    "    dt = T  # Single-step simulation\n",
    "    \n",
    "    # Generate standard normal samples\n",
    "    Z = np.random.normal(0, 1, num_simulations)\n",
    "    \n",
    "    # Simulate asset price at T using GBM\n",
    "    ST = initial_value * np.exp((mu - 0.5 * sigma ** 2) * dt + sigma * np.sqrt(dt) * Z)\n",
    "    \n",
    "    # Compute losses\n",
    "    losses = initial_value - ST\n",
    "    \n",
    "    # Compute Value at Risk (VaR) as the (1-alpha) percentile of losses\n",
    "    var_estimate = np.percentile(losses, 100 * alpha)\n",
    "    \n",
    "    return var_estimate\n",
    "\n",
    "# Parameters\n",
    "initial_value = 1_000_000  # Portfolio initial value ($1M)\n",
    "mu = 0.07  # Expected return (7% annually)\n",
    "sigma = 0.2  # Volatility (20% annually)\n",
    "T = 1  # Time horizon (1 year)\n",
    "alpha = 0.95  # 95% confidence level\n",
    "num_simulations = 100000  # Number of Monte Carlo simulations\n",
    "\n",
    "# Compute VaR\n",
    "var_value = monte_carlo_var(initial_value, mu, sigma, T, alpha, num_simulations)\n",
    "\n",
    "print(f\"Estimated 95% Value at Risk (VaR): ${var_value:,.2f}\")"
   ]
  }
 ],
 "metadata": {
  "kernelspec": {
   "display_name": ".venv",
   "language": "python",
   "name": "python3"
  },
  "language_info": {
   "codemirror_mode": {
    "name": "ipython",
    "version": 3
   },
   "file_extension": ".py",
   "mimetype": "text/x-python",
   "name": "python",
   "nbconvert_exporter": "python",
   "pygments_lexer": "ipython3",
   "version": "3.10.12"
  }
 },
 "nbformat": 4,
 "nbformat_minor": 2
}
