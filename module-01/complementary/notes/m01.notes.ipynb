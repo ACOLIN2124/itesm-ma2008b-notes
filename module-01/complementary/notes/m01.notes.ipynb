{
 "cells": [
  {
   "cell_type": "markdown",
   "id": "5f068856",
   "metadata": {},
   "source": [
    "# Numerical Analysis for Non-Linear Optimization\n",
    "## Module 1: Lecture Summaries\n",
    "\n",
    "---\n",
    "\n",
    "# Random Number Generators\n",
    "### Implementation and Applications\n",
    "\n",
    "- **Key Concepts:**\n",
    "  - Role of RNGs in **Monte Carlo simulations, machine learning, and statistical analysis**\n",
    "  - **NumPy PRNG API** for efficient random number generation\n",
    "  - **Secure random numbers** using Python's `secrets` module\n",
    "\n",
    "- **Statistical Testing & Validation:**\n",
    "  - Kolmogorov-Smirnov Test\n",
    "  - Histogram analysis for distribution verification\n",
    "\n",
    "---"
   ]
  },
  {
   "cell_type": "code",
   "execution_count": null,
   "id": "36ba33e9",
   "metadata": {
    "lines_to_next_cell": 0
   },
   "outputs": [],
   "source": [
    "import numpy as np\n",
    "from scipy.stats import kstest\n",
    "\n",
    "rng = np.random.default_rng(42)\n",
    "samples = rng.random(1000)\n",
    "ks_stat, p_value = kstest(samples, 'uniform')\n",
    "print(f\"KS Test Statistic: {ks_stat}, P-value: {p_value}\")"
   ]
  },
  {
   "cell_type": "markdown",
   "id": "a540d8cc",
   "metadata": {},
   "source": [
    "---\n",
    "\n",
    "- **Monte Carlo Simulations:**\n",
    "  - Estimating π using random sampling\n",
    "  - Convergence analysis with increasing samples\n",
    "\n",
    "---"
   ]
  },
  {
   "cell_type": "code",
   "execution_count": null,
   "id": "f56c3b4a",
   "metadata": {},
   "outputs": [],
   "source": [
    "from numba import njit, prange\n",
    "\n",
    "@njit(parallel=True)\n",
    "def monte_carlo_pi(n):\n",
    "    count = 0\n",
    "    for i in prange(n):\n",
    "        x, y = np.random.random(), np.random.random()\n",
    "        if x**2 + y**2 <= 1:\n",
    "            count += 1\n",
    "    return (count / n) * 4\n",
    "\n",
    "print(\"Estimated Pi:\", monte_carlo_pi(1000000))"
   ]
  },
  {
   "cell_type": "markdown",
   "id": "ba983804",
   "metadata": {},
   "source": [
    "---\n",
    "\n",
    "# Moment Control Techniques\n",
    "### Best Samples, Antithetic Variables & Control Variates\n",
    "\n",
    "- **Variance Reduction Methods:**\n",
    "  - **Best Samples:** Importance and stratified sampling\n",
    "  - **Antithetic Variables:** Creating negatively correlated pairs\n",
    "  - **Moment Control Techniques:** Matching expected values to improve efficiency\n",
    "\n",
    "---"
   ]
  },
  {
   "cell_type": "code",
   "execution_count": null,
   "id": "c65a37ca",
   "metadata": {},
   "outputs": [],
   "source": [
    "import numpy as np\n",
    "\n",
    "def monte_carlo_pi_antithetic(n):\n",
    "    u = np.random.random(n // 2)\n",
    "    v = 1 - u\n",
    "    x = np.concatenate((u, v))\n",
    "    y = np.random.random(n)\n",
    "    inside_circle = (x**2 + y**2) <= 1\n",
    "    return (np.sum(inside_circle) / n) * 4\n",
    "\n",
    "print(\"Estimated Pi:\", monte_carlo_pi_antithetic(1000000))"
   ]
  },
  {
   "cell_type": "markdown",
   "id": "eda8d414",
   "metadata": {},
   "source": [
    "- **Applications:**\n",
    "  - Monte Carlo pricing of **European call options**\n",
    "  - **Risk analysis (Value at Risk - VaR)**\n",
    "  - Path simulation in **stochastic differential equations**\n",
    "\n",
    "---"
   ]
  },
  {
   "cell_type": "code",
   "execution_count": null,
   "id": "4c430872",
   "metadata": {},
   "outputs": [],
   "source": [
    "import numpy as np\n",
    "\n",
    "def monte_carlo_european_call(S0, K, T, r, sigma, num_simulations):\n",
    "    dt = T\n",
    "    U = np.random.normal(0, 1, num_simulations // 2)\n",
    "    V = -U\n",
    "    Z = np.concatenate((U, V))\n",
    "    ST = S0 * np.exp((r - 0.5 * sigma ** 2) * dt + sigma * np.sqrt(dt) * Z)\n",
    "    payoff = np.maximum(ST - K, 0)\n",
    "    discounted_payoff = np.exp(-r * T) * payoff\n",
    "    return np.mean(discounted_payoff), np.std(discounted_payoff) / np.sqrt(num_simulations)\n",
    "\n",
    "print(monte_carlo_european_call(100, 100, 1, 0.05, 0.2, 100000))"
   ]
  },
  {
   "cell_type": "markdown",
   "id": "07ea683c",
   "metadata": {},
   "source": [
    "---\n",
    "\n",
    "# Pseudo & Quasi-Random Numbers\n",
    "### Differences, Generation, and Applications\n",
    "\n",
    "- **Pseudo-Random Numbers (PRNs)**\n",
    "  - Deterministic, reproducible, periodic (e.g., **Mersenne Twister, PCG**)\n",
    "\n",
    "- **Quasi-Random Numbers (QRNs)**\n",
    "  - Low-discrepancy sequences (e.g., **Sobol, Halton, Faure**)\n",
    "  - Used for **numerical integration & optimization**\n",
    "\n",
    "---"
   ]
  },
  {
   "cell_type": "code",
   "execution_count": null,
   "id": "3474d3a6",
   "metadata": {},
   "outputs": [],
   "source": [
    "from scipy.stats.qmc import Sobol\n",
    "\n",
    "sobol = Sobol(d=2, scramble=False)\n",
    "quasi_random_points = sobol.random(n=10)\n",
    "print(quasi_random_points)"
   ]
  },
  {
   "cell_type": "markdown",
   "id": "8ce35c41",
   "metadata": {},
   "source": [
    "- **Monte Carlo Integration with PRNs vs QRNs**\n",
    "\n",
    "---"
   ]
  },
  {
   "cell_type": "code",
   "execution_count": null,
   "id": "c453dbcc",
   "metadata": {},
   "outputs": [],
   "source": [
    "from scipy.stats.qmc import Halton\n",
    "\n",
    "def monte_carlo_integral_qrn(f, a, b, n):\n",
    "    halton = Halton(d=1, scramble=False)\n",
    "    x = halton.random(n) * (b - a) + a\n",
    "    return (b - a) * np.mean(f(x))\n",
    "\n",
    "def f(x):\n",
    "    return np.exp(-x**2)\n",
    "\n",
    "print(\"Monte Carlo Integral (QRN):\", monte_carlo_integral_qrn(f, 0, 1, 10000))"
   ]
  },
  {
   "cell_type": "markdown",
   "id": "b907356e",
   "metadata": {},
   "source": [
    "---\n",
    "\n",
    "# Taylor & Maclaurin Series\n",
    "### Function Approximation & Optimization\n",
    "\n",
    "- **Taylor Series Expansion:**\n",
    "  - Approximation of functions using polynomial expansions\n",
    "  - Error control through higher-order terms\n",
    "\n",
    "---"
   ]
  },
  {
   "cell_type": "code",
   "execution_count": null,
   "id": "a8a8a15a",
   "metadata": {},
   "outputs": [],
   "source": [
    "import numpy as np\n",
    "import matplotlib.pyplot as plt\n",
    "from math import factorial\n",
    "\n",
    "def taylor_expansion_e_x(x, n_terms):\n",
    "    return sum([(x**n) / factorial(n) for n in range(n_terms)])\n",
    "\n",
    "x_values = np.linspace(-2, 2, 100)\n",
    "y_actual = np.exp(x_values)\n",
    "y_approx = [taylor_expansion_e_x(x, 5) for x in x_values]\n",
    "\n",
    "plt.plot(x_values, y_actual, label=\"Actual e^x\")\n",
    "plt.plot(x_values, y_approx, '--', label=\"Taylor Approximation (n=5)\")\n",
    "plt.legend()\n",
    "plt.show()"
   ]
  },
  {
   "cell_type": "markdown",
   "id": "4573347a",
   "metadata": {},
   "source": [
    "---\n",
    "\n",
    "# Conclusion\n",
    "\n",
    "- RNGs are essential in **scientific computing & simulations**\n",
    "- Variance reduction methods enhance **Monte Carlo efficiency**\n",
    "- **Quasi-random sequences** outperform PRNGs in integration tasks\n",
    "- **Taylor/Maclaurin series** provide powerful function approximations\n",
    "\n",
    "---\n",
    "\n",
    "# Thank You! 🎯\n",
    "**Questions?**"
   ]
  }
 ],
 "metadata": {
  "jupytext": {
   "cell_metadata_filter": "-all",
   "main_language": "python",
   "notebook_metadata_filter": "-all"
  }
 },
 "nbformat": 4,
 "nbformat_minor": 5
}
