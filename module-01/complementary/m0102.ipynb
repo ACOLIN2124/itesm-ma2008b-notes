{
 "cells": [
  {
   "cell_type": "markdown",
   "id": "b6bd59c0",
   "metadata": {},
   "source": [
    "# Numerical Analysis for Non-Linear Optimization | Module 1\n",
    "\n",
    "## Best Samples, Antithetic Variables, and Moment Control Techniques\n",
    "\n",
    "### 1. Introduction\n",
    "\n",
    "Monte Carlo methods play a fundamental role in **stochastic simulations**, **numerical optimization**, and **risk analysis**. This module explores advanced variance reduction techniques—**best samples**, **antithetic variables**, and **moment control techniques**—to enhance the efficiency and accuracy of Monte Carlo simulations.\n",
    "\n",
    "---\n",
    "\n",
    "### 2. Best Samples: Enhancing Estimation Accuracy\n",
    "\n",
    "The **best sample selection** technique improves the efficiency of Monte Carlo simulations by selecting sample points that minimize variance while maintaining unbiasedness.\n",
    "\n",
    "#### 2.1 Importance Sampling and Stratification\n",
    "\n",
    "- **Importance Sampling**: Weights samples according to their probability density to reduce variance.\n",
    "- **Stratified Sampling**: Divides the domain into strata and samples each stratum proportionally to ensure even coverage.\n",
    "\n",
    "#### 2.2 Quasi-Random Sequences\n",
    "\n",
    "- **Low-discrepancy sequences** (e.g., Sobol, Halton) generate well-spaced samples.\n",
    "- These sequences reduce **clustering** and improve integration efficiency compared to purely random samples.\n",
    "\n",
    "---\n",
    "\n",
    "### 3. Antithetic Variables: Correlation for Variance Reduction\n",
    "\n",
    "The **antithetic variable method** leverages negatively correlated sample pairs to reduce variance in Monte Carlo estimation.\n",
    "\n",
    "#### 3.1 Definition and Implementation\n",
    "\n",
    "- Instead of generating independent samples $X_1, X_2, ..., X_n$, create **correlated pairs** $(X_i, X_i^*)$ such that $X_i^*$ is designed to counteract fluctuations in $X_i$.\n",
    "- A common choice is $X_i^* = 1 - X_i$ for **uniform** distributions.\n",
    "\n",
    "#### 3.2 Example: Monte Carlo Estimation of $\\pi$"
   ]
  },
  {
   "cell_type": "code",
   "execution_count": 2,
   "id": "25db4daf",
   "metadata": {},
   "outputs": [
    {
     "name": "stdout",
     "output_type": "stream",
     "text": [
      "Estimated Pi: 3.143492\n"
     ]
    }
   ],
   "source": [
    "import numpy as np\n",
    "\n",
    "\n",
    "def monte_carlo_pi_antithetic(n):\n",
    "    u = np.random.random(n // 2)  # Generate half of the samples\n",
    "    v = 1 - u  # Generate antithetic pairs\n",
    "    x = np.concatenate((u, v))  # Combine samples\n",
    "    y = np.random.random(n)  # Independent Y values\n",
    "    inside_circle = (x**2 + y**2) <= 1\n",
    "    return (np.sum(inside_circle) / n) * 4\n",
    "\n",
    "\n",
    "print(\"Estimated Pi:\", monte_carlo_pi_antithetic(1000000))"
   ]
  },
  {
   "cell_type": "markdown",
   "id": "741a44a2",
   "metadata": {},
   "source": [
    "---\n",
    "\n",
    "### 4. Moment Control Techniques: Matching Statistical Moments\n",
    "\n",
    "Moment control techniques enforce constraints on moments (mean, variance, skewness) to enhance Monte Carlo estimates.\n",
    "\n",
    "#### 4.1 Control Variates Method\n",
    "\n",
    "- **Exploits known expectations** of auxiliary variables to adjust the estimator.\n",
    "- Given a function $f(X)$, introduce a control variable $g(X)$ with a known expected value.\n",
    "- Adjust the estimator using:\n",
    "  $$\n",
    "  \\hat{I} = \\frac{1}{n} \\sum_{i=1}^{n} \\left[ f(X_i) - c(g(X_i) - E[g]) \\right]\n",
    "  $$\n",
    "  where $c$ is an **optimal coefficient** minimizing variance.\n",
    "\n",
    "#### 4.2 Example: Control Variates in Integration"
   ]
  },
  {
   "cell_type": "code",
   "execution_count": 1,
   "id": "a3039bcb",
   "metadata": {},
   "outputs": [
    {
     "ename": "NameError",
     "evalue": "name 'np' is not defined",
     "output_type": "error",
     "traceback": [
      "\u001b[0;31m---------------------------------------------------------------------------\u001b[0m",
      "\u001b[0;31mNameError\u001b[0m                                 Traceback (most recent call last)",
      "Cell \u001b[0;32mIn[1], line 13\u001b[0m\n\u001b[1;32m      9\u001b[0m     \u001b[38;5;28;01mreturn\u001b[39;00m \u001b[38;5;241m1\u001b[39m \u001b[38;5;241m-\u001b[39m x\u001b[38;5;241m*\u001b[39m\u001b[38;5;241m*\u001b[39m\u001b[38;5;241m2\u001b[39m  \u001b[38;5;66;03m# Control variate (simpler function)\u001b[39;00m\n\u001b[1;32m     12\u001b[0m n \u001b[38;5;241m=\u001b[39m \u001b[38;5;241m10000\u001b[39m\n\u001b[0;32m---> 13\u001b[0m x \u001b[38;5;241m=\u001b[39m \u001b[43mnp\u001b[49m\u001b[38;5;241m.\u001b[39mrandom\u001b[38;5;241m.\u001b[39muniform(\u001b[38;5;241m0\u001b[39m, \u001b[38;5;241m1\u001b[39m, n)\n\u001b[1;32m     14\u001b[0m f_x \u001b[38;5;241m=\u001b[39m f(x)\n\u001b[1;32m     15\u001b[0m g_x \u001b[38;5;241m=\u001b[39m g(x)\n",
      "\u001b[0;31mNameError\u001b[0m: name 'np' is not defined"
     ]
    }
   ],
   "source": [
    "from scipy.integrate import quad\n",
    "\n",
    "\n",
    "def f(x):\n",
    "    return np.exp(-(x**2))  # Target function\n",
    "\n",
    "\n",
    "def g(x):\n",
    "    return 1 - x**2  # Control variate (simpler function)\n",
    "\n",
    "\n",
    "n = 10000\n",
    "x = np.random.uniform(0, 1, n)\n",
    "f_x = f(x)\n",
    "g_x = g(x)\n",
    "\n",
    "c = -np.cov(f_x, g_x)[0, 1] / np.var(g_x)  # Optimal coefficient\n",
    "I_hat = np.mean(f_x + c * (g_x - np.mean(g_x)))  # Adjusted estimate\n",
    "\n",
    "print(\"Monte Carlo estimate of integral using Control Variates:\", I_hat)"
   ]
  },
  {
   "cell_type": "markdown",
   "id": "d71cdcda",
   "metadata": {},
   "source": [
    "---\n",
    "\n",
    "### 5. Applications in Monte Carlo Simulations\n",
    "\n",
    "These variance reduction techniques have broad applications across **finance**, **engineering**, and **scientific computing**. Below are implementations demonstrating their practical utility.\n",
    "\n",
    "#### 5.1 Estimating the Price of a European Call Option"
   ]
  },
  {
   "cell_type": "code",
   "execution_count": null,
   "id": "b85ea748",
   "metadata": {},
   "outputs": [],
   "source": [
    "import numpy as np\n",
    "\n",
    "\n",
    "def monte_carlo_european_call(S0, K, T, r, sigma, num_simulations):\n",
    "    dt = T  # Single-step simulation\n",
    "    U = np.random.normal(0, 1, num_simulations // 2)  # Standard normal samples\n",
    "    V = -U  # Antithetic pairs\n",
    "\n",
    "    Z = np.concatenate((U, V))  # Combine for variance reduction\n",
    "    ST = S0 * np.exp((r - 0.5 * sigma**2) * dt + sigma * np.sqrt(dt) * Z)\n",
    "    payoff = np.maximum(ST - K, 0)\n",
    "    discounted_payoff = np.exp(-r * T) * payoff\n",
    "    return np.mean(discounted_payoff), np.std(discounted_payoff) / np.sqrt(\n",
    "        num_simulations\n",
    "    )\n",
    "\n",
    "\n",
    "# Parameters\n",
    "S0, K, T, r, sigma, num_simulations = 100, 100, 1, 0.05, 0.2, 100000\n",
    "call_price, error = monte_carlo_european_call(S0, K, T, r, sigma, num_simulations)\n",
    "print(f\"European Call Option Price: {call_price:.4f} ± {error:.4f}\")"
   ]
  },
  {
   "cell_type": "markdown",
   "id": "d1aa0625",
   "metadata": {},
   "source": [
    "#### 5.2 Risk Analysis: Estimating Value at Risk (VaR)"
   ]
  },
  {
   "cell_type": "code",
   "execution_count": null,
   "id": "87ba12eb",
   "metadata": {},
   "outputs": [],
   "source": [
    "import scipy.stats as stats\n",
    "\n",
    "\n",
    "def monte_carlo_var(initial_value, mu, sigma, T, alpha, num_simulations):\n",
    "    dt = T\n",
    "    Z = np.random.normal(0, 1, num_simulations)\n",
    "    ST = initial_value * np.exp((mu - 0.5 * sigma**2) * dt + sigma * np.sqrt(dt) * Z)\n",
    "    losses = initial_value - ST\n",
    "    var_estimate = np.percentile(losses, 100 * (1 - alpha))\n",
    "    return var_estimate\n",
    "\n",
    "\n",
    "var_value = monte_carlo_var(1_000_000, 0.07, 0.2, 1, 0.95, 100000)\n",
    "print(f\"Estimated 95% Value at Risk (VaR): ${var_value:,.2f}\")"
   ]
  },
  {
   "cell_type": "markdown",
   "id": "8a390b71",
   "metadata": {},
   "source": [
    "#### 5.3 Path Simulation in Stochastic Differential Equations"
   ]
  },
  {
   "cell_type": "code",
   "execution_count": null,
   "id": "564230b6",
   "metadata": {},
   "outputs": [],
   "source": [
    "import matplotlib.pyplot as plt\n",
    "\n",
    "\n",
    "def simulate_gbm(S0, mu, sigma, T, N):\n",
    "    dt = T / N\n",
    "    t = np.linspace(0, T, N)\n",
    "    W = np.cumsum(np.random.randn(N) * np.sqrt(dt))  # Wiener process\n",
    "    S = S0 * np.exp((mu - 0.5 * sigma**2) * t + sigma * W)\n",
    "    return t, S\n",
    "\n",
    "\n",
    "t, S = simulate_gbm(100, 0.05, 0.2, 1, 252)\n",
    "plt.plot(t, S, label=\"GBM Path\")\n",
    "plt.xlabel(\"Time\")\n",
    "plt.ylabel(\"Stock Price\")\n",
    "plt.title(\"Simulated Geometric Brownian Motion\")\n",
    "plt.legend()\n",
    "plt.show()"
   ]
  },
  {
   "cell_type": "markdown",
   "id": "e0977ee1",
   "metadata": {},
   "source": [
    "### 6. Conclusion\n",
    "\n",
    "Applying **best samples**, **antithetic variables**, and **moment control techniques** significantly improves the efficiency of Monte Carlo methods. By **reducing variance**, these methods accelerate convergence, leading to **more reliable numerical solutions**.\n",
    "\n",
    "### 7. Exercises\n",
    "\n",
    "#### Basic Implementations\n",
    "\n",
    "1. Implement a Monte Carlo estimator for **normal expectations** using antithetic variables.\n",
    "2. Compare variance reduction for **integration of $\\sin(x)$** using stratified vs. simple sampling.\n",
    "\n",
    "#### Advanced Applications\n",
    "\n",
    "1. Apply moment control techniques to estimate **European call option prices**.\n",
    "2. Modify Monte Carlo simulations for **stochastic differential equations (SDEs)** using **variance reduction methods**."
   ]
  }
 ],
 "metadata": {
  "jupytext": {
   "cell_metadata_filter": "-all",
   "main_language": "python",
   "notebook_metadata_filter": "-all"
  },
  "kernelspec": {
   "display_name": ".venv",
   "language": "python",
   "name": "python3"
  },
  "language_info": {
   "codemirror_mode": {
    "name": "ipython",
    "version": 3
   },
   "file_extension": ".py",
   "mimetype": "text/x-python",
   "name": "python",
   "nbconvert_exporter": "python",
   "pygments_lexer": "ipython3",
   "version": "3.10.12"
  }
 },
 "nbformat": 4,
 "nbformat_minor": 5
}
