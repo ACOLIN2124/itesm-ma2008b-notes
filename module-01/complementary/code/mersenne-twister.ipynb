{
 "cells": [
  {
   "cell_type": "code",
   "execution_count": 1,
   "metadata": {},
   "outputs": [
    {
     "name": "stdout",
     "output_type": "stream",
     "text": [
      "[0.77395605 0.43887844 0.85859792 0.69736803 0.09417735 0.97562235\n",
      " 0.7611397  0.78606431 0.12811363 0.45038594]\n"
     ]
    }
   ],
   "source": [
    "import numpy as np\n",
    "\n",
    "# Initialize PRNG with seed for reproducibility\n",
    "rng = np.random.default_rng(42)\n",
    "random_numbers = rng.random(10)  # Generate 10 uniform random numbers\n",
    "print(random_numbers)"
   ]
  },
  {
   "cell_type": "code",
   "execution_count": 2,
   "metadata": {},
   "outputs": [
    {
     "name": "stdout",
     "output_type": "stream",
     "text": [
      "[[0.     0.    ]\n",
      " [0.5    0.5   ]\n",
      " [0.75   0.25  ]\n",
      " [0.25   0.75  ]\n",
      " [0.375  0.375 ]\n",
      " [0.875  0.875 ]\n",
      " [0.625  0.125 ]\n",
      " [0.125  0.625 ]\n",
      " [0.1875 0.3125]\n",
      " [0.6875 0.8125]]\n"
     ]
    },
    {
     "name": "stderr",
     "output_type": "stream",
     "text": [
      "/home/julihocc/ma2008b/notes.worktrees/FJ2025/.venv/lib/python3.10/site-packages/scipy/stats/_qmc.py:993: UserWarning: The balance properties of Sobol' points require n to be a power of 2.\n",
      "  sample = self._random(n, workers=workers)\n"
     ]
    }
   ],
   "source": [
    "from scipy.stats.qmc import Sobol\n",
    "\n",
    "# Generate a Sobol sequence of 10 points in 2D\n",
    "sobol = Sobol(d=2, scramble=False)\n",
    "quasi_random_points = sobol.random(n=10)\n",
    "print(quasi_random_points)"
   ]
  }
 ],
 "metadata": {
  "kernelspec": {
   "display_name": ".venv",
   "language": "python",
   "name": "python3"
  },
  "language_info": {
   "codemirror_mode": {
    "name": "ipython",
    "version": 3
   },
   "file_extension": ".py",
   "mimetype": "text/x-python",
   "name": "python",
   "nbconvert_exporter": "python",
   "pygments_lexer": "ipython3",
   "version": "3.10.12"
  }
 },
 "nbformat": 4,
 "nbformat_minor": 2
}
