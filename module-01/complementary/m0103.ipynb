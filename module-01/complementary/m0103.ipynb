{
 "cells": [
  {
   "cell_type": "markdown",
   "id": "81334e91",
   "metadata": {},
   "source": [
    "# Numerical Analysis for Non-Linear Optimization | Module 1\n",
    "\n",
    "## Pseudo and Quasi-Random Numbers\n",
    "\n",
    "### 1. Introduction\n",
    "\n",
    "Random number generation is a critical component of numerical methods, especially in **Monte Carlo simulations**, **optimization algorithms**, and **stochastic modeling**. This module explores **pseudo-random** and **quasi-random** numbers, their properties, generation methods, and applications in numerical analysis.\n",
    "\n",
    "---\n",
    "\n",
    "### 2. Pseudo-Random Numbers (PRNs)\n",
    "\n",
    "Pseudo-random numbers are generated deterministically using algorithms that mimic randomness.\n",
    "\n",
    "#### 2.1 Characteristics of PRNs\n",
    "\n",
    "- **Deterministic**: The sequence is fully determined by an initial seed.\n",
    "- **Reproducible**: The same seed generates the same sequence.\n",
    "- **Statistically random**: The numbers appear random but exhibit periodicity.\n",
    "- **Uniform distribution**: Common generators produce values in $[0,1)$.\n",
    "\n",
    "#### 2.2 Common PRNG Algorithms\n",
    "\n",
    "- **Linear Congruential Generator (LCG)**:\n",
    "  $$\n",
    "  X_{n+1} = (a X_n + c) \\mod m\n",
    "  $$\n",
    "- **Mersenne Twister**: Default PRNG in NumPy, long period (~$2^{19937}-1$).\n",
    "- **Xoshiro / SplitMix**: Modern alternatives to Mersenne Twister.\n",
    "- **PCG (Permuted Congruential Generator)**: High statistical quality and efficiency.\n",
    "\n",
    "#### 2.3 Implementation of a PRNG in Python"
   ]
  },
  {
   "cell_type": "code",
   "execution_count": null,
   "id": "690582fa",
   "metadata": {},
   "outputs": [],
   "source": [
    "import numpy as np\n",
    "\n",
    "# Initialize PRNG with seed for reproducibility\n",
    "rng = np.random.default_rng(42)\n",
    "random_numbers = rng.random(10)  # Generate 10 uniform random numbers\n",
    "print(random_numbers)"
   ]
  },
  {
   "cell_type": "markdown",
   "id": "65078186",
   "metadata": {},
   "source": [
    "---\n",
    "\n",
    "### 3. Quasi-Random Numbers (QRNs)\n",
    "\n",
    "Quasi-random numbers are **low-discrepancy sequences** that cover the sample space more uniformly than PRNs.\n",
    "\n",
    "#### 3.1 Characteristics of QRNs\n",
    "\n",
    "- **Low discrepancy**: Less clustering, ensuring better space coverage.\n",
    "- **Deterministic**: Sequence is fixed but lacks periodicity.\n",
    "- **Improves numerical integration**: More efficient in high-dimensional sampling.\n",
    "\n",
    "#### 3.2 Common QRN Sequences\n",
    "\n",
    "- **Sobol sequence**: Best for high-dimensional integration.\n",
    "- **Halton sequence**: Suitable for lower dimensions.\n",
    "- **Faure sequence**: Similar to Halton but better uniformity properties.\n",
    "\n",
    "#### 3.3 Implementation of a QRN Generator"
   ]
  },
  {
   "cell_type": "code",
   "execution_count": null,
   "id": "39338c85",
   "metadata": {},
   "outputs": [],
   "source": [
    "from scipy.stats.qmc import Sobol\n",
    "\n",
    "# Generate a Sobol sequence of 10 points in 2D\n",
    "sobol = Sobol(d=2, scramble=False)\n",
    "quasi_random_points = sobol.random(n=10)\n",
    "print(quasi_random_points)"
   ]
  },
  {
   "cell_type": "markdown",
   "id": "6c32f9fd",
   "metadata": {},
   "source": [
    "---\n",
    "\n",
    "### 4. Applications of PRNs and QRNs\n",
    "\n",
    "#### 4.1 Monte Carlo Integration with PRNs"
   ]
  },
  {
   "cell_type": "code",
   "execution_count": null,
   "id": "e5aec744",
   "metadata": {},
   "outputs": [],
   "source": [
    "def monte_carlo_integral_prn(f, a, b, n):\n",
    "    rng = np.random.default_rng(42)\n",
    "    x = rng.uniform(a, b, n)  # Generate pseudo-random numbers\n",
    "    return (b - a) * np.mean(f(x))\n",
    "\n",
    "def f(x):\n",
    "    return np.exp(-x**2)\n",
    "\n",
    "print(\"Monte Carlo Integral (PRN):\", monte_carlo_integral_prn(f, 0, 1, 10000))"
   ]
  },
  {
   "cell_type": "markdown",
   "id": "b4201ea9",
   "metadata": {},
   "source": [
    "#### 4.2 Monte Carlo Integration with QRNs"
   ]
  },
  {
   "cell_type": "code",
   "execution_count": null,
   "id": "66eaf807",
   "metadata": {},
   "outputs": [],
   "source": [
    "from scipy.stats.qmc import Halton\n",
    "\n",
    "def monte_carlo_integral_qrn(f, a, b, n):\n",
    "    halton = Halton(d=1, scramble=False)\n",
    "    x = halton.random(n) * (b - a) + a  # Scale to [a, b]\n",
    "    return (b - a) * np.mean(f(x))\n",
    "\n",
    "print(\"Monte Carlo Integral (QRN):\", monte_carlo_integral_qrn(f, 0, 1, 10000))"
   ]
  },
  {
   "cell_type": "markdown",
   "id": "72de56a5",
   "metadata": {},
   "source": [
    "#### 4.3 Quasi-Random Sampling for High-Dimensional Optimization"
   ]
  },
  {
   "cell_type": "code",
   "execution_count": null,
   "id": "c76f9fac",
   "metadata": {},
   "outputs": [],
   "source": [
    "from scipy.stats.qmc import Sobol\n",
    "\n",
    "def sobol_sampling(dim, num_samples):\n",
    "    sampler = Sobol(d=dim, scramble=False)\n",
    "    return sampler.random(n=num_samples)\n",
    "\n",
    "samples = sobol_sampling(3, 10)  # 10 samples in 3D space\n",
    "print(samples)"
   ]
  },
  {
   "cell_type": "markdown",
   "id": "fe4ffc13",
   "metadata": {},
   "source": [
    "---\n",
    "\n",
    "### 5. Comparison of PRNs and QRNs\n",
    "\n",
    "| Feature               | Pseudo-Random Numbers | Quasi-Random Numbers |\n",
    "|-----------------------|-----------------------|----------------------|\n",
    "| **Generation**        | Algorithm-based       | Deterministic sequence |\n",
    "| **Periodicity**       | Yes                   | No |\n",
    "| **Uniformity**        | Moderate              | High |\n",
    "| **Efficiency in Integration** | Lower | Higher |\n",
    "| **Usage**             | General-purpose simulations | Numerical integration, optimization |\n",
    "\n",
    "---\n",
    "\n",
    "### 6. Conclusion\n",
    "\n",
    "Both **pseudo-random** and **quasi-random** numbers are essential tools in numerical computing. While **PRNs** are ideal for general simulations and cryptographic applications, **QRNs** provide superior efficiency in **integration and high-dimensional optimization**. Choosing the right type of randomness depends on the application context.\n",
    "\n",
    "---\n",
    "\n",
    "### 7. Exercises\n",
    "\n",
    "#### Basic Implementations\n",
    "\n",
    "1. Generate 1000 pseudo-random numbers using **LCG** and plot their histogram.\n",
    "2. Generate and plot **Halton and Sobol sequences** in 2D.\n",
    "\n",
    "#### Advanced Applications\n",
    "\n",
    "1. Implement a Monte Carlo integration for $\\int_0^1 \\sin(x)dx$ using both **PRNs and QRNs** and compare their convergence.\n",
    "2. Use **QRNs for optimizing a function** in 5 dimensions and compare performance with **random search**."
   ]
  }
 ],
 "metadata": {
  "jupytext": {
   "cell_metadata_filter": "-all",
   "main_language": "python",
   "notebook_metadata_filter": "-all"
  }
 },
 "nbformat": 4,
 "nbformat_minor": 5
}
